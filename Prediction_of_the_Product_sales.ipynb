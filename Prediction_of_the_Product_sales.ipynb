{
  "nbformat": 4,
  "nbformat_minor": 0,
  "metadata": {
    "colab": {
      "provenance": [],
      "authorship_tag": "ABX9TyMbW7rSp8+l+30UsYLNcFMz",
      "include_colab_link": true
    },
    "kernelspec": {
      "name": "python3",
      "display_name": "Python 3"
    },
    "language_info": {
      "name": "python"
    }
  },
  "cells": [
    {
      "cell_type": "markdown",
      "metadata": {
        "id": "view-in-github",
        "colab_type": "text"
      },
      "source": [
        "<a href=\"https://colab.research.google.com/github/HadilGhaith/Prediction-of-Product-Sales/blob/main/Prediction_of_the_Product_sales.ipynb\" target=\"_parent\"><img src=\"https://colab.research.google.com/assets/colab-badge.svg\" alt=\"Open In Colab\"/></a>"
      ]
    },
    {
      "cell_type": "markdown",
      "source": [
        "#### Project 1: Prediction of the product sales\n",
        "- Hadil Ghaith\n",
        "\n",
        "\n"
      ],
      "metadata": {
        "id": "5Z_8TqPt5_Lf"
      }
    },
    {
      "cell_type": "markdown",
      "source": [
        "## \"Project Overview\""
      ],
      "metadata": {
        "id": "HjWUAXPX7cLi"
      }
    },
    {
      "cell_type": "markdown",
      "source": [
        "## \"load ana Inspect Data\""
      ],
      "metadata": {
        "id": "HNktFmmj7k2H"
      }
    },
    {
      "cell_type": "markdown",
      "source": [
        "## \"Clean Data\"\n",
        "\n",
        "```\n",
        "# This is formatted as code\n",
        "```\n",
        "\n"
      ],
      "metadata": {
        "id": "O195OTfo7lOm"
      }
    },
    {
      "cell_type": "markdown",
      "source": [
        "## \"Exploratory Data Analysis\""
      ],
      "metadata": {
        "id": "oHbH4zbU727u"
      }
    },
    {
      "cell_type": "markdown",
      "source": [
        "## \"Feature Inspection\"\n"
      ],
      "metadata": {
        "id": "TxDejhJs8Oq9"
      }
    }
  ]
}